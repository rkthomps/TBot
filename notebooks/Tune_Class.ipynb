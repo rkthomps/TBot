{
 "cells": [
  {
   "cell_type": "code",
   "execution_count": 1,
   "id": "839184cc-d811-44c9-8974-c730da808df9",
   "metadata": {},
   "outputs": [],
   "source": [
    "import os, sys\n",
    "import numpy as np\n",
    "import tensorflow as tf\n",
    "src_path = os.path.join('..', 'src')\n",
    "if src_path not in sys.path:\n",
    "    sys.path.insert(0, src_path)\n",
    "from W_Preproc import Weekly_Preprocessor as WP"
   ]
  },
  {
   "cell_type": "code",
   "execution_count": 2,
   "id": "61736fc0-c72d-4287-a5f4-800c59260b4c",
   "metadata": {},
   "outputs": [],
   "source": [
    "'''\n",
    "Create a generator from a lists of preprocessors\n",
    "Batch size represents the number of weeks, not the number of\n",
    "examples. The number of examples is much larger than the number of\n",
    "weeks. The generator randomizes over the given wps in hopes of generalizing\n",
    "over different periods of time\n",
    "'''\n",
    "def stochastic_gen(wp, weeks_in_batch):\n",
    "    num_weeks = lambda wp: (wp.end_year - wp.start_year + 1) * 52\n",
    "    rand_week = lambda num_weeks: int((np.random.random() * num_weeks) + 1)\n",
    "    n_examples = 0\n",
    "    while True:\n",
    "        n_examples = 0\n",
    "        xs = []\n",
    "        ys = []\n",
    "        while n_examples < weeks_in_batch:\n",
    "            wp.cur_week = rand_week(num_weeks(wp))\n",
    "            result = wp.get_next_week()\n",
    "            if result is not None:\n",
    "                x, y, x_names, prices, companies, b_date, s_date, cur_week = result\n",
    "                xs.append(x)\n",
    "                ys.append(y[:, None])\n",
    "                n_examples += 1\n",
    "        yield np.concatenate(xs, axis=0), np.concatenate(ys, axis=0)[:, 0], x_names"
   ]
  },
  {
   "cell_type": "code",
   "execution_count": 3,
   "id": "0ceedd14-2bde-41e8-95a2-3897d89bf338",
   "metadata": {},
   "outputs": [],
   "source": [
    "train = WP(40, 1970, 1995, binary=True)\n",
    "val = WP(40, 1996, 2005, binary=True)\n",
    "test = WP(40, 2010, 2021, binary=True)"
   ]
  },
  {
   "cell_type": "code",
   "execution_count": 23,
   "id": "c02cc3e3-e5dc-4a0a-9f27-c7aef412397c",
   "metadata": {},
   "outputs": [
    {
     "name": "stdout",
     "output_type": "stream",
     "text": [
      "Epoch 1/20\n",
      "24/24 [==============================] - 4s 64ms/step - loss: 0.6941 - accuracy: 0.5110 - val_loss: 0.6945 - val_accuracy: 0.4928\n",
      "Epoch 2/20\n",
      "24/24 [==============================] - 1s 32ms/step - loss: 0.6937 - accuracy: 0.4829 - val_loss: 0.6936 - val_accuracy: 0.5072\n",
      "Epoch 3/20\n",
      "24/24 [==============================] - 1s 32ms/step - loss: 0.6940 - accuracy: 0.4997 - val_loss: 0.6938 - val_accuracy: 0.5072\n",
      "Epoch 4/20\n",
      "24/24 [==============================] - 1s 33ms/step - loss: 0.6939 - accuracy: 0.5030 - val_loss: 0.6931 - val_accuracy: 0.5072\n",
      "Epoch 5/20\n",
      "24/24 [==============================] - 1s 34ms/step - loss: 0.6933 - accuracy: 0.5030 - val_loss: 0.6931 - val_accuracy: 0.5072\n",
      "Epoch 6/20\n",
      "24/24 [==============================] - 1s 34ms/step - loss: 0.6933 - accuracy: 0.4869 - val_loss: 0.6933 - val_accuracy: 0.4928\n",
      "Epoch 7/20\n",
      "24/24 [==============================] - 1s 34ms/step - loss: 0.6934 - accuracy: 0.4970 - val_loss: 0.6933 - val_accuracy: 0.4928\n",
      "Epoch 8/20\n",
      "24/24 [==============================] - 1s 33ms/step - loss: 0.6932 - accuracy: 0.5090 - val_loss: 0.6931 - val_accuracy: 0.5072\n",
      "Epoch 9/20\n",
      "24/24 [==============================] - 1s 34ms/step - loss: 0.6933 - accuracy: 0.5030 - val_loss: 0.6931 - val_accuracy: 0.5072\n",
      "Epoch 10/20\n",
      "24/24 [==============================] - 1s 34ms/step - loss: 0.6934 - accuracy: 0.4823 - val_loss: 0.6932 - val_accuracy: 0.5072\n",
      "Epoch 11/20\n",
      "24/24 [==============================] - 1s 33ms/step - loss: 0.6933 - accuracy: 0.5030 - val_loss: 0.6931 - val_accuracy: 0.5072\n",
      "Epoch 12/20\n",
      "24/24 [==============================] - 1s 34ms/step - loss: 0.6933 - accuracy: 0.5030 - val_loss: 0.6931 - val_accuracy: 0.5072\n",
      "Epoch 13/20\n",
      "24/24 [==============================] - 1s 34ms/step - loss: 0.6932 - accuracy: 0.5030 - val_loss: 0.6931 - val_accuracy: 0.5072\n",
      "Epoch 14/20\n",
      "24/24 [==============================] - 1s 33ms/step - loss: 0.6932 - accuracy: 0.5030 - val_loss: 0.6931 - val_accuracy: 0.5072\n",
      "Epoch 15/20\n",
      "24/24 [==============================] - 1s 34ms/step - loss: 0.6932 - accuracy: 0.5030 - val_loss: 0.6932 - val_accuracy: 0.5072\n",
      "Epoch 16/20\n",
      "24/24 [==============================] - 1s 33ms/step - loss: 0.6933 - accuracy: 0.5030 - val_loss: 0.6931 - val_accuracy: 0.5072\n",
      "Epoch 17/20\n",
      "24/24 [==============================] - 1s 33ms/step - loss: 0.6934 - accuracy: 0.4856 - val_loss: 0.6931 - val_accuracy: 0.5072\n",
      "Epoch 18/20\n",
      "24/24 [==============================] - 1s 33ms/step - loss: 0.6933 - accuracy: 0.5030 - val_loss: 0.6932 - val_accuracy: 0.5072\n",
      "Epoch 19/20\n",
      "24/24 [==============================] - 1s 34ms/step - loss: 0.6932 - accuracy: 0.5030 - val_loss: 0.6931 - val_accuracy: 0.5072\n",
      "Epoch 20/20\n",
      "24/24 [==============================] - 1s 34ms/step - loss: 0.6933 - accuracy: 0.4936 - val_loss: 0.6932 - val_accuracy: 0.4928\n",
      "0 5.9604645e-08\n",
      "Epoch 1/20\n",
      "27/27 [==============================] - 1s 35ms/step - loss: 0.6932 - accuracy: 0.5028 - val_loss: 0.6927 - val_accuracy: 0.5220\n",
      "Epoch 2/20\n",
      "27/27 [==============================] - 1s 31ms/step - loss: 0.6932 - accuracy: 0.5070 - val_loss: 0.6929 - val_accuracy: 0.5220\n",
      "Epoch 3/20\n",
      "27/27 [==============================] - 1s 32ms/step - loss: 0.6933 - accuracy: 0.5070 - val_loss: 0.6925 - val_accuracy: 0.5220\n",
      "Epoch 4/20\n",
      "27/27 [==============================] - 1s 30ms/step - loss: 0.6933 - accuracy: 0.5070 - val_loss: 0.6927 - val_accuracy: 0.5220\n",
      "Epoch 5/20\n",
      "27/27 [==============================] - 1s 29ms/step - loss: 0.6931 - accuracy: 0.5070 - val_loss: 0.6925 - val_accuracy: 0.5220\n",
      "Epoch 6/20\n",
      "27/27 [==============================] - 1s 33ms/step - loss: 0.6932 - accuracy: 0.5070 - val_loss: 0.6927 - val_accuracy: 0.5220\n",
      "Epoch 7/20\n",
      "27/27 [==============================] - 1s 31ms/step - loss: 0.6932 - accuracy: 0.5070 - val_loss: 0.6930 - val_accuracy: 0.5220\n",
      "Epoch 8/20\n",
      "27/27 [==============================] - 1s 33ms/step - loss: 0.6931 - accuracy: 0.5070 - val_loss: 0.6926 - val_accuracy: 0.5220\n",
      "Epoch 9/20\n",
      "27/27 [==============================] - 1s 32ms/step - loss: 0.6931 - accuracy: 0.5070 - val_loss: 0.6926 - val_accuracy: 0.5220\n",
      "Epoch 10/20\n",
      "27/27 [==============================] - 1s 33ms/step - loss: 0.6933 - accuracy: 0.5070 - val_loss: 0.6928 - val_accuracy: 0.5220\n",
      "Epoch 11/20\n",
      "27/27 [==============================] - 1s 32ms/step - loss: 0.6931 - accuracy: 0.5070 - val_loss: 0.6924 - val_accuracy: 0.5220\n",
      "Epoch 12/20\n",
      "23/27 [========================>.....] - ETA: 0s - loss: 0.6933 - accuracy: 0.5061"
     ]
    },
    {
     "ename": "KeyboardInterrupt",
     "evalue": "",
     "output_type": "error",
     "traceback": [
      "\u001b[0;31m---------------------------------------------------------------------------\u001b[0m",
      "\u001b[0;31mKeyboardInterrupt\u001b[0m                         Traceback (most recent call last)",
      "\u001b[0;32m<ipython-input-23-3d1b44f6fb0c>\u001b[0m in \u001b[0;36m<module>\u001b[0;34m\u001b[0m\n\u001b[1;32m     20\u001b[0m \u001b[0;34m\u001b[0m\u001b[0m\n\u001b[1;32m     21\u001b[0m \u001b[0;32mfor\u001b[0m \u001b[0mi\u001b[0m \u001b[0;32min\u001b[0m \u001b[0mrange\u001b[0m\u001b[0;34m(\u001b[0m\u001b[0;36m5\u001b[0m\u001b[0;34m)\u001b[0m\u001b[0;34m:\u001b[0m\u001b[0;34m\u001b[0m\u001b[0;34m\u001b[0m\u001b[0m\n\u001b[0;32m---> 22\u001b[0;31m     \u001b[0mmodel\u001b[0m\u001b[0;34m.\u001b[0m\u001b[0mfit\u001b[0m\u001b[0;34m(\u001b[0m\u001b[0mcur_x\u001b[0m\u001b[0;34m,\u001b[0m \u001b[0mcur_y\u001b[0m\u001b[0;34m,\u001b[0m \u001b[0mepochs\u001b[0m\u001b[0;34m=\u001b[0m\u001b[0;36m20\u001b[0m\u001b[0;34m,\u001b[0m \u001b[0mbatch_size\u001b[0m\u001b[0;34m=\u001b[0m\u001b[0;36m128\u001b[0m\u001b[0;34m,\u001b[0m \u001b[0mvalidation_data\u001b[0m\u001b[0;34m=\u001b[0m\u001b[0;34m(\u001b[0m\u001b[0mval_x\u001b[0m\u001b[0;34m,\u001b[0m \u001b[0mval_y\u001b[0m\u001b[0;34m)\u001b[0m\u001b[0;34m)\u001b[0m\u001b[0;34m\u001b[0m\u001b[0;34m\u001b[0m\u001b[0m\n\u001b[0m\u001b[1;32m     23\u001b[0m     \u001b[0mpred\u001b[0m \u001b[0;34m=\u001b[0m \u001b[0mmodel\u001b[0m\u001b[0;34m.\u001b[0m\u001b[0mpredict\u001b[0m\u001b[0;34m(\u001b[0m\u001b[0mval_x\u001b[0m\u001b[0;34m)\u001b[0m\u001b[0;34m\u001b[0m\u001b[0;34m\u001b[0m\u001b[0m\n\u001b[1;32m     24\u001b[0m     \u001b[0mprint\u001b[0m\u001b[0;34m(\u001b[0m\u001b[0mi\u001b[0m\u001b[0;34m,\u001b[0m \u001b[0mpred\u001b[0m\u001b[0;34m.\u001b[0m\u001b[0mstd\u001b[0m\u001b[0;34m(\u001b[0m\u001b[0;34m)\u001b[0m\u001b[0;34m)\u001b[0m\u001b[0;34m\u001b[0m\u001b[0;34m\u001b[0m\u001b[0m\n",
      "\u001b[0;32m/opt/anaconda3/lib/python3.8/site-packages/keras/utils/traceback_utils.py\u001b[0m in \u001b[0;36merror_handler\u001b[0;34m(*args, **kwargs)\u001b[0m\n\u001b[1;32m     62\u001b[0m     \u001b[0mfiltered_tb\u001b[0m \u001b[0;34m=\u001b[0m \u001b[0;32mNone\u001b[0m\u001b[0;34m\u001b[0m\u001b[0;34m\u001b[0m\u001b[0m\n\u001b[1;32m     63\u001b[0m     \u001b[0;32mtry\u001b[0m\u001b[0;34m:\u001b[0m\u001b[0;34m\u001b[0m\u001b[0;34m\u001b[0m\u001b[0m\n\u001b[0;32m---> 64\u001b[0;31m       \u001b[0;32mreturn\u001b[0m \u001b[0mfn\u001b[0m\u001b[0;34m(\u001b[0m\u001b[0;34m*\u001b[0m\u001b[0margs\u001b[0m\u001b[0;34m,\u001b[0m \u001b[0;34m**\u001b[0m\u001b[0mkwargs\u001b[0m\u001b[0;34m)\u001b[0m\u001b[0;34m\u001b[0m\u001b[0;34m\u001b[0m\u001b[0m\n\u001b[0m\u001b[1;32m     65\u001b[0m     \u001b[0;32mexcept\u001b[0m \u001b[0mException\u001b[0m \u001b[0;32mas\u001b[0m \u001b[0me\u001b[0m\u001b[0;34m:\u001b[0m  \u001b[0;31m# pylint: disable=broad-except\u001b[0m\u001b[0;34m\u001b[0m\u001b[0;34m\u001b[0m\u001b[0m\n\u001b[1;32m     66\u001b[0m       \u001b[0mfiltered_tb\u001b[0m \u001b[0;34m=\u001b[0m \u001b[0m_process_traceback_frames\u001b[0m\u001b[0;34m(\u001b[0m\u001b[0me\u001b[0m\u001b[0;34m.\u001b[0m\u001b[0m__traceback__\u001b[0m\u001b[0;34m)\u001b[0m\u001b[0;34m\u001b[0m\u001b[0;34m\u001b[0m\u001b[0m\n",
      "\u001b[0;32m/opt/anaconda3/lib/python3.8/site-packages/keras/engine/training.py\u001b[0m in \u001b[0;36mfit\u001b[0;34m(self, x, y, batch_size, epochs, verbose, callbacks, validation_split, validation_data, shuffle, class_weight, sample_weight, initial_epoch, steps_per_epoch, validation_steps, validation_batch_size, validation_freq, max_queue_size, workers, use_multiprocessing)\u001b[0m\n\u001b[1;32m   1214\u001b[0m                 _r=1):\n\u001b[1;32m   1215\u001b[0m               \u001b[0mcallbacks\u001b[0m\u001b[0;34m.\u001b[0m\u001b[0mon_train_batch_begin\u001b[0m\u001b[0;34m(\u001b[0m\u001b[0mstep\u001b[0m\u001b[0;34m)\u001b[0m\u001b[0;34m\u001b[0m\u001b[0;34m\u001b[0m\u001b[0m\n\u001b[0;32m-> 1216\u001b[0;31m               \u001b[0mtmp_logs\u001b[0m \u001b[0;34m=\u001b[0m \u001b[0mself\u001b[0m\u001b[0;34m.\u001b[0m\u001b[0mtrain_function\u001b[0m\u001b[0;34m(\u001b[0m\u001b[0miterator\u001b[0m\u001b[0;34m)\u001b[0m\u001b[0;34m\u001b[0m\u001b[0;34m\u001b[0m\u001b[0m\n\u001b[0m\u001b[1;32m   1217\u001b[0m               \u001b[0;32mif\u001b[0m \u001b[0mdata_handler\u001b[0m\u001b[0;34m.\u001b[0m\u001b[0mshould_sync\u001b[0m\u001b[0;34m:\u001b[0m\u001b[0;34m\u001b[0m\u001b[0;34m\u001b[0m\u001b[0m\n\u001b[1;32m   1218\u001b[0m                 \u001b[0mcontext\u001b[0m\u001b[0;34m.\u001b[0m\u001b[0masync_wait\u001b[0m\u001b[0;34m(\u001b[0m\u001b[0;34m)\u001b[0m\u001b[0;34m\u001b[0m\u001b[0;34m\u001b[0m\u001b[0m\n",
      "\u001b[0;32m/opt/anaconda3/lib/python3.8/site-packages/tensorflow/python/util/traceback_utils.py\u001b[0m in \u001b[0;36merror_handler\u001b[0;34m(*args, **kwargs)\u001b[0m\n\u001b[1;32m    148\u001b[0m     \u001b[0mfiltered_tb\u001b[0m \u001b[0;34m=\u001b[0m \u001b[0;32mNone\u001b[0m\u001b[0;34m\u001b[0m\u001b[0;34m\u001b[0m\u001b[0m\n\u001b[1;32m    149\u001b[0m     \u001b[0;32mtry\u001b[0m\u001b[0;34m:\u001b[0m\u001b[0;34m\u001b[0m\u001b[0;34m\u001b[0m\u001b[0m\n\u001b[0;32m--> 150\u001b[0;31m       \u001b[0;32mreturn\u001b[0m \u001b[0mfn\u001b[0m\u001b[0;34m(\u001b[0m\u001b[0;34m*\u001b[0m\u001b[0margs\u001b[0m\u001b[0;34m,\u001b[0m \u001b[0;34m**\u001b[0m\u001b[0mkwargs\u001b[0m\u001b[0;34m)\u001b[0m\u001b[0;34m\u001b[0m\u001b[0;34m\u001b[0m\u001b[0m\n\u001b[0m\u001b[1;32m    151\u001b[0m     \u001b[0;32mexcept\u001b[0m \u001b[0mException\u001b[0m \u001b[0;32mas\u001b[0m \u001b[0me\u001b[0m\u001b[0;34m:\u001b[0m\u001b[0;34m\u001b[0m\u001b[0;34m\u001b[0m\u001b[0m\n\u001b[1;32m    152\u001b[0m       \u001b[0mfiltered_tb\u001b[0m \u001b[0;34m=\u001b[0m \u001b[0m_process_traceback_frames\u001b[0m\u001b[0;34m(\u001b[0m\u001b[0me\u001b[0m\u001b[0;34m.\u001b[0m\u001b[0m__traceback__\u001b[0m\u001b[0;34m)\u001b[0m\u001b[0;34m\u001b[0m\u001b[0;34m\u001b[0m\u001b[0m\n",
      "\u001b[0;32m/opt/anaconda3/lib/python3.8/site-packages/tensorflow/python/eager/def_function.py\u001b[0m in \u001b[0;36m__call__\u001b[0;34m(self, *args, **kwds)\u001b[0m\n\u001b[1;32m    908\u001b[0m \u001b[0;34m\u001b[0m\u001b[0m\n\u001b[1;32m    909\u001b[0m       \u001b[0;32mwith\u001b[0m \u001b[0mOptionalXlaContext\u001b[0m\u001b[0;34m(\u001b[0m\u001b[0mself\u001b[0m\u001b[0;34m.\u001b[0m\u001b[0m_jit_compile\u001b[0m\u001b[0;34m)\u001b[0m\u001b[0;34m:\u001b[0m\u001b[0;34m\u001b[0m\u001b[0;34m\u001b[0m\u001b[0m\n\u001b[0;32m--> 910\u001b[0;31m         \u001b[0mresult\u001b[0m \u001b[0;34m=\u001b[0m \u001b[0mself\u001b[0m\u001b[0;34m.\u001b[0m\u001b[0m_call\u001b[0m\u001b[0;34m(\u001b[0m\u001b[0;34m*\u001b[0m\u001b[0margs\u001b[0m\u001b[0;34m,\u001b[0m \u001b[0;34m**\u001b[0m\u001b[0mkwds\u001b[0m\u001b[0;34m)\u001b[0m\u001b[0;34m\u001b[0m\u001b[0;34m\u001b[0m\u001b[0m\n\u001b[0m\u001b[1;32m    911\u001b[0m \u001b[0;34m\u001b[0m\u001b[0m\n\u001b[1;32m    912\u001b[0m       \u001b[0mnew_tracing_count\u001b[0m \u001b[0;34m=\u001b[0m \u001b[0mself\u001b[0m\u001b[0;34m.\u001b[0m\u001b[0mexperimental_get_tracing_count\u001b[0m\u001b[0;34m(\u001b[0m\u001b[0;34m)\u001b[0m\u001b[0;34m\u001b[0m\u001b[0;34m\u001b[0m\u001b[0m\n",
      "\u001b[0;32m/opt/anaconda3/lib/python3.8/site-packages/tensorflow/python/eager/def_function.py\u001b[0m in \u001b[0;36m_call\u001b[0;34m(self, *args, **kwds)\u001b[0m\n\u001b[1;32m    940\u001b[0m       \u001b[0;31m# In this case we have created variables on the first call, so we run the\u001b[0m\u001b[0;34m\u001b[0m\u001b[0;34m\u001b[0m\u001b[0;34m\u001b[0m\u001b[0m\n\u001b[1;32m    941\u001b[0m       \u001b[0;31m# defunned version which is guaranteed to never create variables.\u001b[0m\u001b[0;34m\u001b[0m\u001b[0;34m\u001b[0m\u001b[0;34m\u001b[0m\u001b[0m\n\u001b[0;32m--> 942\u001b[0;31m       \u001b[0;32mreturn\u001b[0m \u001b[0mself\u001b[0m\u001b[0;34m.\u001b[0m\u001b[0m_stateless_fn\u001b[0m\u001b[0;34m(\u001b[0m\u001b[0;34m*\u001b[0m\u001b[0margs\u001b[0m\u001b[0;34m,\u001b[0m \u001b[0;34m**\u001b[0m\u001b[0mkwds\u001b[0m\u001b[0;34m)\u001b[0m  \u001b[0;31m# pylint: disable=not-callable\u001b[0m\u001b[0;34m\u001b[0m\u001b[0;34m\u001b[0m\u001b[0m\n\u001b[0m\u001b[1;32m    943\u001b[0m     \u001b[0;32melif\u001b[0m \u001b[0mself\u001b[0m\u001b[0;34m.\u001b[0m\u001b[0m_stateful_fn\u001b[0m \u001b[0;32mis\u001b[0m \u001b[0;32mnot\u001b[0m \u001b[0;32mNone\u001b[0m\u001b[0;34m:\u001b[0m\u001b[0;34m\u001b[0m\u001b[0;34m\u001b[0m\u001b[0m\n\u001b[1;32m    944\u001b[0m       \u001b[0;31m# Release the lock early so that multiple threads can perform the call\u001b[0m\u001b[0;34m\u001b[0m\u001b[0;34m\u001b[0m\u001b[0;34m\u001b[0m\u001b[0m\n",
      "\u001b[0;32m/opt/anaconda3/lib/python3.8/site-packages/tensorflow/python/eager/function.py\u001b[0m in \u001b[0;36m__call__\u001b[0;34m(self, *args, **kwargs)\u001b[0m\n\u001b[1;32m   3128\u001b[0m       (graph_function,\n\u001b[1;32m   3129\u001b[0m        filtered_flat_args) = self._maybe_define_function(args, kwargs)\n\u001b[0;32m-> 3130\u001b[0;31m     return graph_function._call_flat(\n\u001b[0m\u001b[1;32m   3131\u001b[0m         filtered_flat_args, captured_inputs=graph_function.captured_inputs)  # pylint: disable=protected-access\n\u001b[1;32m   3132\u001b[0m \u001b[0;34m\u001b[0m\u001b[0m\n",
      "\u001b[0;32m/opt/anaconda3/lib/python3.8/site-packages/tensorflow/python/eager/function.py\u001b[0m in \u001b[0;36m_call_flat\u001b[0;34m(self, args, captured_inputs, cancellation_manager)\u001b[0m\n\u001b[1;32m   1957\u001b[0m         and executing_eagerly):\n\u001b[1;32m   1958\u001b[0m       \u001b[0;31m# No tape is watching; skip to running the function.\u001b[0m\u001b[0;34m\u001b[0m\u001b[0;34m\u001b[0m\u001b[0;34m\u001b[0m\u001b[0m\n\u001b[0;32m-> 1959\u001b[0;31m       return self._build_call_outputs(self._inference_function.call(\n\u001b[0m\u001b[1;32m   1960\u001b[0m           ctx, args, cancellation_manager=cancellation_manager))\n\u001b[1;32m   1961\u001b[0m     forward_backward = self._select_forward_and_backward_functions(\n",
      "\u001b[0;32m/opt/anaconda3/lib/python3.8/site-packages/tensorflow/python/eager/function.py\u001b[0m in \u001b[0;36mcall\u001b[0;34m(self, ctx, args, cancellation_manager)\u001b[0m\n\u001b[1;32m    596\u001b[0m       \u001b[0;32mwith\u001b[0m \u001b[0m_InterpolateFunctionError\u001b[0m\u001b[0;34m(\u001b[0m\u001b[0mself\u001b[0m\u001b[0;34m)\u001b[0m\u001b[0;34m:\u001b[0m\u001b[0;34m\u001b[0m\u001b[0;34m\u001b[0m\u001b[0m\n\u001b[1;32m    597\u001b[0m         \u001b[0;32mif\u001b[0m \u001b[0mcancellation_manager\u001b[0m \u001b[0;32mis\u001b[0m \u001b[0;32mNone\u001b[0m\u001b[0;34m:\u001b[0m\u001b[0;34m\u001b[0m\u001b[0;34m\u001b[0m\u001b[0m\n\u001b[0;32m--> 598\u001b[0;31m           outputs = execute.execute(\n\u001b[0m\u001b[1;32m    599\u001b[0m               \u001b[0mstr\u001b[0m\u001b[0;34m(\u001b[0m\u001b[0mself\u001b[0m\u001b[0;34m.\u001b[0m\u001b[0msignature\u001b[0m\u001b[0;34m.\u001b[0m\u001b[0mname\u001b[0m\u001b[0;34m)\u001b[0m\u001b[0;34m,\u001b[0m\u001b[0;34m\u001b[0m\u001b[0;34m\u001b[0m\u001b[0m\n\u001b[1;32m    600\u001b[0m               \u001b[0mnum_outputs\u001b[0m\u001b[0;34m=\u001b[0m\u001b[0mself\u001b[0m\u001b[0;34m.\u001b[0m\u001b[0m_num_outputs\u001b[0m\u001b[0;34m,\u001b[0m\u001b[0;34m\u001b[0m\u001b[0;34m\u001b[0m\u001b[0m\n",
      "\u001b[0;32m/opt/anaconda3/lib/python3.8/site-packages/tensorflow/python/eager/execute.py\u001b[0m in \u001b[0;36mquick_execute\u001b[0;34m(op_name, num_outputs, inputs, attrs, ctx, name)\u001b[0m\n\u001b[1;32m     56\u001b[0m   \u001b[0;32mtry\u001b[0m\u001b[0;34m:\u001b[0m\u001b[0;34m\u001b[0m\u001b[0;34m\u001b[0m\u001b[0m\n\u001b[1;32m     57\u001b[0m     \u001b[0mctx\u001b[0m\u001b[0;34m.\u001b[0m\u001b[0mensure_initialized\u001b[0m\u001b[0;34m(\u001b[0m\u001b[0;34m)\u001b[0m\u001b[0;34m\u001b[0m\u001b[0;34m\u001b[0m\u001b[0m\n\u001b[0;32m---> 58\u001b[0;31m     tensors = pywrap_tfe.TFE_Py_Execute(ctx._handle, device_name, op_name,\n\u001b[0m\u001b[1;32m     59\u001b[0m                                         inputs, attrs, num_outputs)\n\u001b[1;32m     60\u001b[0m   \u001b[0;32mexcept\u001b[0m \u001b[0mcore\u001b[0m\u001b[0;34m.\u001b[0m\u001b[0m_NotOkStatusException\u001b[0m \u001b[0;32mas\u001b[0m \u001b[0me\u001b[0m\u001b[0;34m:\u001b[0m\u001b[0;34m\u001b[0m\u001b[0;34m\u001b[0m\u001b[0m\n",
      "\u001b[0;31mKeyboardInterrupt\u001b[0m: "
     ]
    }
   ],
   "source": [
    "data_generator = stochastic_gen(train, 20)\n",
    "val_generator = stochastic_gen(val, 6)\n",
    "cur_x, cur_y, x_names = data_generator.__next__()\n",
    "val_x, val_y, _ = val_generator.__next__()\n",
    "\n",
    "model = tf.keras.models.Sequential()\n",
    "model.add(tf.keras.Input(shape=cur_x.shape[1:]))\n",
    "model.add(tf.keras.layers.LSTM(100, return_sequences=True, kernel_regularizer=tf.keras.regularizers.l2(1e-7)))\n",
    "model.add(tf.keras.layers.LSTM(100, return_sequences=True, kernel_regularizer=tf.keras.regularizers.l2(1e-7)))\n",
    "model.add(tf.keras.layers.LSTM(30, kernel_regularizer=tf.keras.regularizers.l2(1e-7)))\n",
    "model.add(tf.keras.layers.Dense(30, activation='relu', kernel_regularizer=tf.keras.regularizers.l2(1e-8)))\n",
    "model.add(tf.keras.layers.Dense(30, activation='relu', kernel_regularizer=tf.keras.regularizers.l2(1e-8)))\n",
    "model.add(tf.keras.layers.Dense(15, activation='relu', kernel_regularizer=tf.keras.regularizers.l2(1e-8)))\n",
    "model.add(tf.keras.layers.Dense(1, activation='sigmoid', kernel_regularizer=tf.keras.regularizers.l2(1e-8)))\n",
    "\n",
    "model.compile(\n",
    "    optimizer = tf.keras.optimizers.Adam(learning_rate=0.01),\n",
    "    loss=tf.keras.losses.BinaryCrossentropy(),\n",
    "    metrics=['accuracy'])\n",
    "\n",
    "for i in range(5):\n",
    "    model.fit(cur_x, cur_y, epochs=20, batch_size=128, validation_data=(val_x, val_y))\n",
    "    pred = model.predict(val_x)\n",
    "    print(i, pred.std())\n",
    "    del cur_x\n",
    "    del cur_y\n",
    "    del val_x\n",
    "    del val_y\n",
    "    cur_x, cur_y, _ = data_generator.__next__()\n",
    "    val_x, val_y, _ = val_generator.__next__()"
   ]
  },
  {
   "cell_type": "code",
   "execution_count": 11,
   "id": "ffc71ca7-8509-4b7b-9714-b3c6d208f2b1",
   "metadata": {},
   "outputs": [
    {
     "data": {
      "text/plain": [
       "array([[0.57250744],\n",
       "       [0.5725075 ],\n",
       "       [0.57250774],\n",
       "       [0.57250744],\n",
       "       [0.57250774],\n",
       "       [0.5725075 ],\n",
       "       [0.5725076 ],\n",
       "       [0.5725077 ],\n",
       "       [0.5725076 ],\n",
       "       [0.5725075 ]], dtype=float32)"
      ]
     },
     "execution_count": 11,
     "metadata": {},
     "output_type": "execute_result"
    }
   ],
   "source": [
    "data_generator = stochastic_gen(train, 20)\n",
    "cur_x, _, _ = data_generator.__next__()\n",
    "model.predict(cur_x[0:10])"
   ]
  },
  {
   "cell_type": "code",
   "execution_count": 9,
   "id": "51f8c58d-9399-4961-8bbe-912ed2ea7467",
   "metadata": {},
   "outputs": [
    {
     "data": {
      "text/plain": [
       "<generator object stochastic_gen at 0x7f9d7217f3c0>"
      ]
     },
     "execution_count": 9,
     "metadata": {},
     "output_type": "execute_result"
    }
   ],
   "source": [
    "data_generator"
   ]
  },
  {
   "cell_type": "code",
   "execution_count": null,
   "id": "48e886d4-0ef3-48c1-9f32-cc15df14732c",
   "metadata": {},
   "outputs": [],
   "source": []
  }
 ],
 "metadata": {
  "kernelspec": {
   "display_name": "Python 3",
   "language": "python",
   "name": "python3"
  },
  "language_info": {
   "codemirror_mode": {
    "name": "ipython",
    "version": 3
   },
   "file_extension": ".py",
   "mimetype": "text/x-python",
   "name": "python",
   "nbconvert_exporter": "python",
   "pygments_lexer": "ipython3",
   "version": "3.8.8"
  }
 },
 "nbformat": 4,
 "nbformat_minor": 5
}
