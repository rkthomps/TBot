{
 "cells": [
  {
   "cell_type": "code",
   "execution_count": 3,
   "id": "4ceb81b7-57e0-4c94-8f60-9941be4a20af",
   "metadata": {},
   "outputs": [],
   "source": [
    "import pandas as pd\n",
    "import numpy as np\n",
    "import matplotlib.pyplot as plt\n",
    "\n",
    "import sys, os"
   ]
  },
  {
   "cell_type": "code",
   "execution_count": 4,
   "id": "d31aca05-d102-4d47-a52a-18db77a271c1",
   "metadata": {},
   "outputs": [
    {
     "name": "stderr",
     "output_type": "stream",
     "text": [
      "/var/folders/5w/9htyqd7s7fvcqcn47w7nfyqc0000gn/T/ipykernel_55281/2341645999.py:2: DtypeWarning: Columns (10,17,26,30,650,657,668,669,679) have mixed types. Specify dtype option on import or set low_memory=False.\n",
      "  og_qdf = pd.read_csv(og_q_path)\n"
     ]
    }
   ],
   "source": [
    "og_q_path = os.path.join('..', 'data_files', 'quarterly_orig.csv')\n",
    "og_qdf = pd.read_csv(og_q_path)"
   ]
  },
  {
   "cell_type": "code",
   "execution_count": 12,
   "id": "44c76a7b-e2dd-4055-a8a5-e006f6a1a47a",
   "metadata": {},
   "outputs": [
    {
     "name": "stderr",
     "output_type": "stream",
     "text": [
      "/var/folders/5w/9htyqd7s7fvcqcn47w7nfyqc0000gn/T/ipykernel_55281/4267500095.py:8: MatplotlibDeprecationWarning: Support for passing numbers through unit converters is deprecated since 3.5 and support will be removed two minor releases later; use Axis.convert_units instead.\n",
      "  ax.set_xticks([])\n"
     ]
    },
    {
     "data": {
      "text/plain": [
       "<matplotlib.legend.Legend at 0x122fd0220>"
      ]
     },
     "execution_count": 12,
     "metadata": {},
     "output_type": "execute_result"
    },
    {
     "data": {
      "image/png": "[encoded data removed]",
      "text/plain": [
       "<Figure size 720x360 with 1 Axes>"
      ]
     },
     "metadata": {
      "needs_background": "light"
     },
     "output_type": "display_data"
    }
   ],
   "source": [
    "missing = og_qdf.apply(lambda col: pd.isna(col).sum()).sort_values()\n",
    "non_missing = len(og_qdf) - missing\n",
    "fig, ax = plt.subplots()\n",
    "ax.bar(missing.index.values, missing.values, label='Missing')\n",
    "ax.bar(non_missing.index.values, non_missing.values, bottom=missing, label='Non Missing')\n",
    "ax.set_title('Missing Values in the WRDS Fundamentals DATASET')\n",
    "ax.set_xlabel('Column')\n",
    "ax.set_xticks([])\n",
    "ax.set_xticklabels([])\n",
    "ax.set_ylabel('Number of Values')\n",
    "fig.set_size_inches(10, 5)\n",
    "fig.legend()"
   ]
  },
  {
   "cell_type": "markdown",
   "id": "879a0c77-6896-453a-a596-ace7fb5b43fd",
   "metadata": {},
   "source": [
    "**We will require that a column has at least 90% of its data to proceed to the next step of cleaning**\n",
    "- This is a reasonable requirement because most of the columns are highly correlated with some other column in the data set that is more frequently reported\n",
    "- In the end, we want the fundamental metrics that are used by a broad range of comapanies. "
   ]
  },
  {
   "cell_type": "code",
   "execution_count": 8,
   "id": "98773ed1-c88c-456d-bf78-210a49e20be8",
   "metadata": {},
   "outputs": [
    {
     "data": {
      "text/plain": [
       "gvkey          0\n",
       "fic            0\n",
       "rp             0\n",
       "busdesc        0\n",
       "sic            0\n",
       "           ...  \n",
       "dldte      71941\n",
       "add4       71941\n",
       "tsafcy     71941\n",
       "add2       71941\n",
       "add3       71941\n",
       "Length: 680, dtype: int64"
      ]
     },
     "execution_count": 8,
     "metadata": {},
     "output_type": "execute_result"
    }
   ],
   "source": [
    "missing_ratio = missing / len(og_qdf)"
   ]
  },
  {
   "cell_type": "code",
   "execution_count": null,
   "id": "e7d2d485-716c-4e55-a25b-da5fc3ab12d5",
   "metadata": {},
   "outputs": [],
   "source": []
  }
 ],
 "metadata": {
  "kernelspec": {
   "display_name": "TBot",
   "language": "python",
   "name": "tbot"
  },
  "language_info": {
   "codemirror_mode": {
    "name": "ipython",
    "version": 3
   },
   "file_extension": ".py",
   "mimetype": "text/x-python",
   "name": "python",
   "nbconvert_exporter": "python",
   "pygments_lexer": "ipython3",
   "version": "3.9.7"
  }
 },
 "nbformat": 4,
 "nbformat_minor": 5
}
